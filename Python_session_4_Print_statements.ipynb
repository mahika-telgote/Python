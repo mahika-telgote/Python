{
 "cells": [
  {
   "cell_type": "code",
   "execution_count": 1,
   "id": "e2bc7897-4d5e-40cf-8840-3ac34cb8f6ca",
   "metadata": {},
   "outputs": [
    {
     "name": "stdout",
     "output_type": "stream",
     "text": [
      "10\n"
     ]
    }
   ],
   "source": [
    "print(10)"
   ]
  },
  {
   "cell_type": "code",
   "execution_count": 1,
   "id": "c9706293-f1b3-4ab6-999a-d7b21d728231",
   "metadata": {},
   "outputs": [
    {
     "name": "stdout",
     "output_type": "stream",
     "text": [
      "10\n"
     ]
    }
   ],
   "source": [
    "print(10)"
   ]
  },
  {
   "cell_type": "code",
   "execution_count": 2,
   "id": "b66135a3-89d0-49b8-8679-53547dbb2db2",
   "metadata": {},
   "outputs": [
    {
     "name": "stdout",
     "output_type": "stream",
     "text": [
      "10\n",
      "10\n"
     ]
    },
    {
     "data": {
      "text/plain": [
       "(None, None)"
      ]
     },
     "execution_count": 2,
     "metadata": {},
     "output_type": "execute_result"
    }
   ],
   "source": [
    "print(10), print(10)"
   ]
  },
  {
   "cell_type": "code",
   "execution_count": 5,
   "id": "20763e72-fc41-40e5-bd82-eb225f1a8cee",
   "metadata": {},
   "outputs": [
    {
     "name": "stdout",
     "output_type": "stream",
     "text": [
      "10\n",
      "20\n"
     ]
    }
   ],
   "source": [
    "print(10)\n",
    "print(20)"
   ]
  },
  {
   "cell_type": "markdown",
   "id": "ea6e9890-e689-4377-b434-357edd7c6a07",
   "metadata": {},
   "source": [
    "- Conclusion is never write print statements is horizontal it should be in vertical"
   ]
  },
  {
   "cell_type": "markdown",
   "id": "a746c277-cc16-4def-b45d-54cfb950d2e2",
   "metadata": {},
   "source": [
    "- Otherwise do in single print"
   ]
  },
  {
   "cell_type": "code",
   "execution_count": 3,
   "id": "2ed9e200-f2dc-46ae-b9cc-08cff669ad86",
   "metadata": {},
   "outputs": [
    {
     "name": "stdout",
     "output_type": "stream",
     "text": [
      "10 20 30\n"
     ]
    }
   ],
   "source": [
    " # Like this\n",
    "\n",
    "print(10,20,30)\n"
   ]
  },
  {
   "cell_type": "markdown",
   "id": "7718248e-55c7-4f6c-a8d3-7901cef111e9",
   "metadata": {},
   "source": [
    "**format**"
   ]
  },
  {
   "cell_type": "code",
   "execution_count": 4,
   "id": "52c0b13b-1cf8-41a7-beee-9857066ffb76",
   "metadata": {},
   "outputs": [
    {
     "name": "stdout",
     "output_type": "stream",
     "text": [
      "the addition of 100 and 200 is 300\n"
     ]
    }
   ],
   "source": [
    "a=100\n",
    "b=200\n",
    "c=a+b\n",
    "print(\"the addition of {} and {} is {}\" .format(a,b,c))"
   ]
  },
  {
   "cell_type": "code",
   "execution_count": 5,
   "id": "eef22136-1827-4f67-8f2c-502435858149",
   "metadata": {},
   "outputs": [
    {
     "name": "stdout",
     "output_type": "stream",
     "text": [
      "my name is python, im 10 years old and im fromhyd\n"
     ]
    }
   ],
   "source": [
    "name='python'\n",
    "age=10\n",
    "city='hyd'\n",
    "print(\"my name is {}, im {} years old and im from{}\" .format(name,age,city) )"
   ]
  },
  {
   "cell_type": "code",
   "execution_count": 6,
   "id": "ef2b6516-9b6a-4789-a9b0-dec914517997",
   "metadata": {},
   "outputs": [
    {
     "name": "stdout",
     "output_type": "stream",
     "text": [
      "My name is mahika, My role is developer and I work in company  accenture\n"
     ]
    }
   ],
   "source": [
    "employename='mahika'\n",
    "employeerole='developer'\n",
    "company='accenture'\n",
    "print(\"My name is {}, My role is {} and I work in company  {}\" .format(employename,employeerole,company))"
   ]
  },
  {
   "cell_type": "code",
   "execution_count": 4,
   "id": "1e033e1b-4b4d-409f-868c-ae03b4d7efc4",
   "metadata": {},
   "outputs": [
    {
     "name": "stdout",
     "output_type": "stream",
     "text": [
      "The average of 100 and 200 is: 150.0\n",
      "the average of 100 and 200 is: 150.0\n"
     ]
    }
   ],
   "source": [
    "num1=100\n",
    "num2=200\n",
    "average=(num1+num2)/2\n",
    "print(\"The average of {} and {} is: {}\" .format(num1,num2,average))\n",
    "print(f\"the average of {num1} and {num2} is: {average}\")"
   ]
  },
  {
   "cell_type": "code",
   "execution_count": 2,
   "id": "4215e297-b6bc-407f-8301-6503d379a1e2",
   "metadata": {},
   "outputs": [
    {
     "name": "stdout",
     "output_type": "stream",
     "text": [
      "the area of circle is: 310.0\n",
      "the area of circle is:310.0\n"
     ]
    }
   ],
   "source": [
    "# take the radius of circle\n",
    "# take pie value=3.1\n",
    "# find the area of circle=pi*r*r\n",
    "\n",
    "r=10\n",
    "pi=3.1\n",
    "area=pi*r*r\n",
    "print(f\"the area of circle is: {area}\")\n",
    "print(\"the area of circle is:{}\" .format(area))"
   ]
  },
  {
   "cell_type": "code",
   "execution_count": 6,
   "id": "50274e0c-8d96-4b67-843c-9781f1ef99d4",
   "metadata": {},
   "outputs": [
    {
     "name": "stdout",
     "output_type": "stream",
     "text": [
      "The area of triangle is 16.0\n",
      "The area of traingle is 16.0\n"
     ]
    }
   ],
   "source": [
    "# take the base of triangle\n",
    "# take the height of triangle\n",
    "# area of triangle=1/2*base*height\n",
    "\n",
    "base=4\n",
    "height=8\n",
    "area=1/2*base*height\n",
    "print(\"The area of triangle is {}\" .format(area))\n",
    "print(f\"The area of traingle is {area}\")"
   ]
  },
  {
   "cell_type": "code",
   "execution_count": 7,
   "id": "06a2148e-06ed-4fc7-bc67-235b0ce80782",
   "metadata": {},
   "outputs": [
    {
     "name": "stdout",
     "output_type": "stream",
     "text": [
      "The total bill is : 1100.0\n",
      "the total bill is : 1100.0\n"
     ]
    }
   ],
   "source": [
    "# take the bill_amount\n",
    "# take the tip_percentage\n",
    "# calculate tip_amount\n",
    "# calculte the total bill\n",
    "# print the total bill\n",
    "\n",
    "bill_amount=1000\n",
    "tip_percentage=10\n",
    "tip_amount=1000*10/100  # bill_amount*tip_percentage/100\n",
    "total_bill=bill_amount+tip_amount \n",
    "print(\"The total bill is : {}\" .format(total_bill))\n",
    "print(f\"the total bill is : {total_bill}\")"
   ]
  },
  {
   "cell_type": "code",
   "execution_count": 8,
   "id": "56a05e64-f4f9-40c3-8136-ba4cd1f97954",
   "metadata": {},
   "outputs": [
    {
     "name": "stdout",
     "output_type": "stream",
     "text": [
      "10\n",
      "20\n"
     ]
    }
   ],
   "source": [
    "print(10)\n",
    "print(20)"
   ]
  },
  {
   "cell_type": "code",
   "execution_count": 9,
   "id": "6424cf9c-1c2a-41f3-9fcd-560995376e54",
   "metadata": {},
   "outputs": [
    {
     "name": "stdout",
     "output_type": "stream",
     "text": [
      "10 20\n"
     ]
    }
   ],
   "source": [
    "print(10,20)"
   ]
  },
  {
   "cell_type": "markdown",
   "id": "ce5cea73-63fe-40f2-9def-b7281f779a2c",
   "metadata": {},
   "source": [
    "**end**"
   ]
  },
  {
   "cell_type": "markdown",
   "id": "0a34afaa-d72f-4153-b8d8-8fa4cc8260f2",
   "metadata": {},
   "source": [
    "$end$\n",
    "\n",
    "- combining multiple print statements in single line"
   ]
  },
  {
   "cell_type": "code",
   "execution_count": 13,
   "id": "13d37463-dc50-4533-b51d-f96ee027662b",
   "metadata": {},
   "outputs": [
    {
     "name": "stdout",
     "output_type": "stream",
     "text": [
      "10 20\n"
     ]
    }
   ],
   "source": [
    "print(10,end=' ')\n",
    "print(20)"
   ]
  },
  {
   "cell_type": "code",
   "execution_count": 14,
   "id": "6ffc9a25-6393-44fd-8081-d5b010a94ace",
   "metadata": {},
   "outputs": [
    {
     "name": "stdout",
     "output_type": "stream",
     "text": [
      "10 ,20 ,30\n"
     ]
    }
   ],
   "source": [
    "print(10,end=' ,')\n",
    "print(20,end=' ,')\n",
    "print(30)"
   ]
  },
  {
   "cell_type": "markdown",
   "id": "b6f22a65-f623-48da-86e8-bfea5d2c6826",
   "metadata": {},
   "source": [
    "$separator$\n",
    "\n",
    "- Seperate the multiple values in a single print statement"
   ]
  },
  {
   "cell_type": "markdown",
   "id": "2db39b78-aa76-4326-a0c2-e5fc0e26c384",
   "metadata": {},
   "source": [
    "print(10,20,30,sep=' & ')\n",
    "\n",
    "# 10 & 20 & 30\n"
   ]
  },
  {
   "cell_type": "code",
   "execution_count": 9,
   "id": "f52f4f9e-a95d-4bed-963c-12c2c7c7f867",
   "metadata": {},
   "outputs": [
    {
     "name": "stdout",
     "output_type": "stream",
     "text": [
      "10 ,20 ,30\n"
     ]
    }
   ],
   "source": [
    "print(10,20,30,sep=' ,')"
   ]
  },
  {
   "cell_type": "raw",
   "id": "52356fa7-d7f4-46ad-a9e3-cc37adf42676",
   "metadata": {},
   "source": [
    "print(10,20,30,sep='--->')"
   ]
  },
  {
   "cell_type": "code",
   "execution_count": 17,
   "id": "38ba169e-9712-40f4-af6a-3085e22565cc",
   "metadata": {},
   "outputs": [
    {
     "name": "stdout",
     "output_type": "stream",
     "text": [
      "the addition of 5 and 3 is 8.\n"
     ]
    }
   ],
   "source": [
    "print('the addition of 5 and 3 is 8','.',sep='') # another way of printing a statement other than format and all other method"
   ]
  },
  {
   "cell_type": "code",
   "execution_count": 8,
   "id": "91d3a526-b605-4b19-aa45-614d795fd434",
   "metadata": {},
   "outputs": [
    {
     "name": "stdout",
     "output_type": "stream",
     "text": [
      "the addition of 2 and 4 is 6!\n"
     ]
    }
   ],
   "source": [
    "print('the addition of 2 and 4 is 6','!',sep='')"
   ]
  },
  {
   "cell_type": "code",
   "execution_count": null,
   "id": "26e3b27a-5b4a-4dcc-aff9-cc2f123516b1",
   "metadata": {},
   "outputs": [],
   "source": []
  }
 ],
 "metadata": {
  "kernelspec": {
   "display_name": "Python 3 (ipykernel)",
   "language": "python",
   "name": "python3"
  },
  "language_info": {
   "codemirror_mode": {
    "name": "ipython",
    "version": 3
   },
   "file_extension": ".py",
   "mimetype": "text/x-python",
   "name": "python",
   "nbconvert_exporter": "python",
   "pygments_lexer": "ipython3",
   "version": "3.11.7"
  }
 },
 "nbformat": 4,
 "nbformat_minor": 5
}
