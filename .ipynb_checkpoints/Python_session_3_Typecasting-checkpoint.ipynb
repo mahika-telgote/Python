{
 "cells": [
  {
   "cell_type": "markdown",
   "id": "4d26bb2c-cd16-4cd3-8e89-23b4e86efc1c",
   "metadata": {},
   "source": [
    "- integer data type int\n",
    "\n",
    "- float data type float\n",
    "\n",
    "- string data type str\n",
    "\n",
    "- Boolean data type bool"
   ]
  },
  {
   "cell_type": "markdown",
   "id": "7abe1f19-be95-4b61-9aba-22d4530f3f74",
   "metadata": {},
   "source": [
    "**Type casting**\n",
    "\n",
    "- Converting one data type to another data type is called as type casting\n",
    "\n",
    "- which means we want to convert\n",
    "\n",
    "- integer type to all other(float,str,bool) data types\n",
    "\n",
    "- float type to all other(int,str,bool) data types\n",
    "\n",
    "- str type to all other(int,float,bool) data types\n",
    "\n",
    "- bool type to all other(int,float,str) data types"
   ]
  },
  {
   "cell_type": "markdown",
   "id": "79069b84-6e7d-4f3f-8243-a0811d165643",
   "metadata": {},
   "source": [
    "**Integer to other data types**"
   ]
  },
  {
   "cell_type": "markdown",
   "id": "a5b8560e-b3e4-439f-9b8c-773dfaafb9a6",
   "metadata": {},
   "source": [
    "$int-float$"
   ]
  },
  {
   "cell_type": "code",
   "execution_count": 1,
   "id": "fdc00b5f-bfd3-4ab2-9491-1ce79c96a257",
   "metadata": {},
   "outputs": [
    {
     "data": {
      "text/plain": [
       "int"
      ]
     },
     "execution_count": 1,
     "metadata": {},
     "output_type": "execute_result"
    }
   ],
   "source": [
    "num=100\n",
    "type(num)"
   ]
  },
  {
   "cell_type": "code",
   "execution_count": 1,
   "id": "4af32874-6c4e-4aeb-be45-17d532925485",
   "metadata": {},
   "outputs": [
    {
     "data": {
      "text/plain": [
       "int"
      ]
     },
     "execution_count": 1,
     "metadata": {},
     "output_type": "execute_result"
    }
   ],
   "source": [
    "num=200\n",
    "type(num)"
   ]
  },
  {
   "cell_type": "code",
   "execution_count": 2,
   "id": "61c12e85-562a-466e-b750-d346e485f5ca",
   "metadata": {},
   "outputs": [],
   "source": [
    "float_num=float(num)"
   ]
  },
  {
   "cell_type": "code",
   "execution_count": 3,
   "id": "26eb67e7-d13b-4a60-a098-329e6561967d",
   "metadata": {},
   "outputs": [
    {
     "data": {
      "text/plain": [
       "100.0"
      ]
     },
     "execution_count": 3,
     "metadata": {},
     "output_type": "execute_result"
    }
   ],
   "source": [
    "float(num)"
   ]
  },
  {
   "cell_type": "code",
   "execution_count": 4,
   "id": "1dcfdb7d-ea7d-4d06-b2a7-7568541b678a",
   "metadata": {},
   "outputs": [
    {
     "data": {
      "text/plain": [
       "float"
      ]
     },
     "execution_count": 4,
     "metadata": {},
     "output_type": "execute_result"
    }
   ],
   "source": [
    "float_num=float(num)\n",
    "type(float_num)"
   ]
  },
  {
   "cell_type": "code",
   "execution_count": 4,
   "id": "6fa379ca-86f7-4070-95b8-9a00c66c66f8",
   "metadata": {},
   "outputs": [
    {
     "data": {
      "text/plain": [
       "'100'"
      ]
     },
     "execution_count": 4,
     "metadata": {},
     "output_type": "execute_result"
    }
   ],
   "source": [
    "str_num=str(100)\n",
    "str_num"
   ]
  },
  {
   "cell_type": "code",
   "execution_count": 5,
   "id": "42e3fc3b-ff80-4f4c-846b-3fa29982b117",
   "metadata": {},
   "outputs": [
    {
     "data": {
      "text/plain": [
       "str"
      ]
     },
     "execution_count": 5,
     "metadata": {},
     "output_type": "execute_result"
    }
   ],
   "source": [
    "str_num=str(100)\n",
    "type(str_num)"
   ]
  },
  {
   "cell_type": "code",
   "execution_count": 6,
   "id": "5769080b-e8b0-45bc-af53-4b16aa8516b7",
   "metadata": {},
   "outputs": [
    {
     "data": {
      "text/plain": [
       "(-240.0, '-240', True)"
      ]
     },
     "execution_count": 6,
     "metadata": {},
     "output_type": "execute_result"
    }
   ],
   "source": [
    "float(-240),str(-240),bool(-240)"
   ]
  },
  {
   "cell_type": "code",
   "execution_count": 5,
   "id": "1ed91beb-1c00-4b09-818b-b09b76a88260",
   "metadata": {},
   "outputs": [
    {
     "data": {
      "text/plain": [
       "(-200.0, '-200', True)"
      ]
     },
     "execution_count": 5,
     "metadata": {},
     "output_type": "execute_result"
    }
   ],
   "source": [
    "float(-200), str(-200), bool(-200)"
   ]
  },
  {
   "cell_type": "code",
   "execution_count": 7,
   "id": "29b1842c-4c3d-4d32-b622-ec81d189ff4d",
   "metadata": {},
   "outputs": [
    {
     "data": {
      "text/plain": [
       "False"
      ]
     },
     "execution_count": 7,
     "metadata": {},
     "output_type": "execute_result"
    }
   ],
   "source": [
    "bool(0)"
   ]
  },
  {
   "cell_type": "code",
   "execution_count": 6,
   "id": "ced616dd-43be-4290-bcc0-83479f5a1c7b",
   "metadata": {},
   "outputs": [
    {
     "data": {
      "text/plain": [
       "False"
      ]
     },
     "execution_count": 6,
     "metadata": {},
     "output_type": "execute_result"
    }
   ],
   "source": [
    "# when integer of bollean conversation become False\n",
    "bool(0)"
   ]
  },
  {
   "cell_type": "markdown",
   "id": "88abba58-f29d-44e5-841a-4cd0f1c3bbf5",
   "metadata": {},
   "source": [
    "**Note**\n",
    "\n",
    "- Integer =0 then only boolean conversion becomes False\n",
    "\n",
    "- Otherwise for any positive number or negative number it becomes true"
   ]
  },
  {
   "cell_type": "markdown",
   "id": "580ee7fd-c4ff-45d8-b828-a00be3eac1c3",
   "metadata": {},
   "source": [
    "**Float to another data type**"
   ]
  },
  {
   "cell_type": "code",
   "execution_count": 8,
   "id": "3828dc8a-56df-4556-aab7-7fbc4dca4243",
   "metadata": {},
   "outputs": [
    {
     "data": {
      "text/plain": [
       "True"
      ]
     },
     "execution_count": 8,
     "metadata": {},
     "output_type": "execute_result"
    }
   ],
   "source": [
    "int(200.5) # 200\n",
    "str(200.5) # '200.5'\n",
    "bool(200.5) # True\n"
   ]
  },
  {
   "cell_type": "markdown",
   "id": "6a184ec6-4f8a-4be0-a6da-f0742208fe80",
   "metadata": {},
   "source": [
    "**String to other data types**"
   ]
  },
  {
   "cell_type": "code",
   "execution_count": 9,
   "id": "1d6f45af-9321-47bd-b0ab-a4a62e84dc39",
   "metadata": {},
   "outputs": [
    {
     "ename": "ValueError",
     "evalue": "invalid literal for int() with base 10: 'apple'",
     "output_type": "error",
     "traceback": [
      "\u001b[1;31m---------------------------------------------------------------------------\u001b[0m",
      "\u001b[1;31mValueError\u001b[0m                                Traceback (most recent call last)",
      "Cell \u001b[1;32mIn[9], line 1\u001b[0m\n\u001b[1;32m----> 1\u001b[0m \u001b[38;5;28mint\u001b[39m(\u001b[38;5;124m'\u001b[39m\u001b[38;5;124mapple\u001b[39m\u001b[38;5;124m'\u001b[39m)\n",
      "\u001b[1;31mValueError\u001b[0m: invalid literal for int() with base 10: 'apple'"
     ]
    }
   ],
   "source": [
    "int('apple')"
   ]
  },
  {
   "cell_type": "code",
   "execution_count": 10,
   "id": "833ce150-a3b2-4e28-bfd6-a1b70b1ee5fb",
   "metadata": {},
   "outputs": [
    {
     "ename": "ValueError",
     "evalue": "could not convert string to float: 'apple'",
     "output_type": "error",
     "traceback": [
      "\u001b[1;31m---------------------------------------------------------------------------\u001b[0m",
      "\u001b[1;31mValueError\u001b[0m                                Traceback (most recent call last)",
      "Cell \u001b[1;32mIn[10], line 1\u001b[0m\n\u001b[1;32m----> 1\u001b[0m \u001b[38;5;28mfloat\u001b[39m(\u001b[38;5;124m'\u001b[39m\u001b[38;5;124mapple\u001b[39m\u001b[38;5;124m'\u001b[39m)\n",
      "\u001b[1;31mValueError\u001b[0m: could not convert string to float: 'apple'"
     ]
    }
   ],
   "source": [
    "float('apple')"
   ]
  },
  {
   "cell_type": "code",
   "execution_count": 11,
   "id": "d3679b6b-a210-4334-92aa-46503549ced5",
   "metadata": {},
   "outputs": [
    {
     "data": {
      "text/plain": [
       "True"
      ]
     },
     "execution_count": 11,
     "metadata": {},
     "output_type": "execute_result"
    }
   ],
   "source": [
    "bool('apple')"
   ]
  },
  {
   "cell_type": "code",
   "execution_count": 12,
   "id": "9a6c1598-c2c5-48de-94ce-e12e5bd86769",
   "metadata": {},
   "outputs": [
    {
     "data": {
      "text/plain": [
       "10"
      ]
     },
     "execution_count": 12,
     "metadata": {},
     "output_type": "execute_result"
    }
   ],
   "source": [
    "int('10')"
   ]
  },
  {
   "cell_type": "code",
   "execution_count": 13,
   "id": "074461ca-38a7-449c-bd9d-f97d5467bc3d",
   "metadata": {},
   "outputs": [
    {
     "data": {
      "text/plain": [
       "10.0"
      ]
     },
     "execution_count": 13,
     "metadata": {},
     "output_type": "execute_result"
    }
   ],
   "source": [
    "float('10')"
   ]
  },
  {
   "cell_type": "code",
   "execution_count": 14,
   "id": "f451736b-a0be-48c1-acf6-bf44bac774e8",
   "metadata": {},
   "outputs": [
    {
     "data": {
      "text/plain": [
       "True"
      ]
     },
     "execution_count": 14,
     "metadata": {},
     "output_type": "execute_result"
    }
   ],
   "source": [
    "bool('10')"
   ]
  },
  {
   "cell_type": "code",
   "execution_count": 15,
   "id": "6beef675-7019-4b68-a462-12114597bdf6",
   "metadata": {},
   "outputs": [
    {
     "ename": "ValueError",
     "evalue": "invalid literal for int() with base 10: '10.5'",
     "output_type": "error",
     "traceback": [
      "\u001b[1;31m---------------------------------------------------------------------------\u001b[0m",
      "\u001b[1;31mValueError\u001b[0m                                Traceback (most recent call last)",
      "Cell \u001b[1;32mIn[15], line 1\u001b[0m\n\u001b[1;32m----> 1\u001b[0m \u001b[38;5;28mint\u001b[39m(\u001b[38;5;124m'\u001b[39m\u001b[38;5;124m10.5\u001b[39m\u001b[38;5;124m'\u001b[39m)\n",
      "\u001b[1;31mValueError\u001b[0m: invalid literal for int() with base 10: '10.5'"
     ]
    }
   ],
   "source": [
    "int('10.5')"
   ]
  },
  {
   "cell_type": "code",
   "execution_count": 16,
   "id": "b36b30ab-7422-4446-945c-10bd755f06af",
   "metadata": {},
   "outputs": [
    {
     "data": {
      "text/plain": [
       "10.5"
      ]
     },
     "execution_count": 16,
     "metadata": {},
     "output_type": "execute_result"
    }
   ],
   "source": [
    "float('10.5')"
   ]
  },
  {
   "cell_type": "code",
   "execution_count": 17,
   "id": "96228ffe-1353-4acc-9898-085731e22380",
   "metadata": {},
   "outputs": [
    {
     "data": {
      "text/plain": [
       "True"
      ]
     },
     "execution_count": 17,
     "metadata": {},
     "output_type": "execute_result"
    }
   ],
   "source": [
    "bool('10.5')"
   ]
  },
  {
   "cell_type": "markdown",
   "id": "997b7ed1-fb14-4d98-bd84-9ccf5087e0c4",
   "metadata": {},
   "source": [
    "## very important for interview"
   ]
  },
  {
   "cell_type": "code",
   "execution_count": null,
   "id": "532d0ba9-1024-42c7-bae2-eadedce04cdc",
   "metadata": {},
   "outputs": [],
   "source": [
    "int('10') #pass\n",
    "int('10.5') # fail\n",
    "float('10') #pass\n",
    "float('10.5') #pass"
   ]
  },
  {
   "cell_type": "markdown",
   "id": "dd329afa-a33d-488c-91e1-3af529a958b4",
   "metadata": {},
   "source": [
    "- Float is the boss\n",
    "\n",
    "- which means float of any value either it is integer in strings format\n",
    "\n",
    "- Or float in strings format will works\n",
    "\n",
    "- But Integer will works only for integer in strings format\n",
    "\n",
    "- Integer type casting will fail for float in strings format"
   ]
  },
  {
   "cell_type": "code",
   "execution_count": 18,
   "id": "c5cbe993-45b1-4055-99a7-a2566636f59d",
   "metadata": {},
   "outputs": [
    {
     "data": {
      "text/plain": [
       "'0'"
      ]
     },
     "execution_count": 18,
     "metadata": {},
     "output_type": "execute_result"
    }
   ],
   "source": [
    "'0'"
   ]
  },
  {
   "cell_type": "code",
   "execution_count": 19,
   "id": "67fda76d-2514-48c9-8db5-6abe50c0a829",
   "metadata": {},
   "outputs": [
    {
     "data": {
      "text/plain": [
       "False"
      ]
     },
     "execution_count": 19,
     "metadata": {},
     "output_type": "execute_result"
    }
   ],
   "source": [
    "bool(0)"
   ]
  },
  {
   "cell_type": "code",
   "execution_count": 20,
   "id": "75629670-2b7d-4c47-a104-605b806f5036",
   "metadata": {},
   "outputs": [
    {
     "data": {
      "text/plain": [
       "True"
      ]
     },
     "execution_count": 20,
     "metadata": {},
     "output_type": "execute_result"
    }
   ],
   "source": [
    "bool('0')"
   ]
  },
  {
   "cell_type": "code",
   "execution_count": 21,
   "id": "d12434d8-d99c-4c2c-8ccf-a142e79b5582",
   "metadata": {},
   "outputs": [
    {
     "data": {
      "text/plain": [
       "False"
      ]
     },
     "execution_count": 21,
     "metadata": {},
     "output_type": "execute_result"
    }
   ],
   "source": [
    "bool('')"
   ]
  },
  {
   "cell_type": "markdown",
   "id": "0fb67c74-7152-48cc-a46f-d94333762074",
   "metadata": {},
   "source": [
    "- empty string of boolean gives false\n",
    "\n",
    "- false means nothing either 0 or empty string"
   ]
  },
  {
   "cell_type": "code",
   "execution_count": 24,
   "id": "047c038f-5c02-45f0-9f6f-5e248eed36e6",
   "metadata": {},
   "outputs": [
    {
     "data": {
      "text/plain": [
       "1"
      ]
     },
     "execution_count": 24,
     "metadata": {},
     "output_type": "execute_result"
    }
   ],
   "source": [
    "# boolean to other data type\n",
    "\n",
    "\n",
    "int(True)"
   ]
  },
  {
   "cell_type": "code",
   "execution_count": 25,
   "id": "b626daaf-a14c-45c7-8848-aed9699bed03",
   "metadata": {},
   "outputs": [
    {
     "data": {
      "text/plain": [
       "1.0"
      ]
     },
     "execution_count": 25,
     "metadata": {},
     "output_type": "execute_result"
    }
   ],
   "source": [
    "float(True)"
   ]
  },
  {
   "cell_type": "code",
   "execution_count": 26,
   "id": "33de1439-fa00-4a32-9b69-a9b4c1c74f0e",
   "metadata": {},
   "outputs": [
    {
     "data": {
      "text/plain": [
       "'True'"
      ]
     },
     "execution_count": 26,
     "metadata": {},
     "output_type": "execute_result"
    }
   ],
   "source": [
    "str(True)"
   ]
  },
  {
   "cell_type": "code",
   "execution_count": 27,
   "id": "72261294-6e56-43a2-8e09-86734f0991b7",
   "metadata": {},
   "outputs": [
    {
     "data": {
      "text/plain": [
       "0"
      ]
     },
     "execution_count": 27,
     "metadata": {},
     "output_type": "execute_result"
    }
   ],
   "source": [
    "int(False)"
   ]
  },
  {
   "cell_type": "code",
   "execution_count": 28,
   "id": "09542323-2f91-4f94-a871-55296054ed38",
   "metadata": {},
   "outputs": [
    {
     "data": {
      "text/plain": [
       "0.0"
      ]
     },
     "execution_count": 28,
     "metadata": {},
     "output_type": "execute_result"
    }
   ],
   "source": [
    "float(False)"
   ]
  },
  {
   "cell_type": "code",
   "execution_count": 29,
   "id": "9637dbc1-42b4-4800-806e-e9a04db7c601",
   "metadata": {},
   "outputs": [
    {
     "data": {
      "text/plain": [
       "'False'"
      ]
     },
     "execution_count": 29,
     "metadata": {},
     "output_type": "execute_result"
    }
   ],
   "source": [
    "str(False)"
   ]
  },
  {
   "cell_type": "code",
   "execution_count": 30,
   "id": "faec9ea4-8597-4bf2-8cb0-2f069d8d85a1",
   "metadata": {},
   "outputs": [
    {
     "data": {
      "text/plain": [
       "100.0"
      ]
     },
     "execution_count": 30,
     "metadata": {},
     "output_type": "execute_result"
    }
   ],
   "source": [
    "float(100)"
   ]
  },
  {
   "cell_type": "code",
   "execution_count": 31,
   "id": "309bbb04-e2ab-4c5e-b9c8-18334c21badf",
   "metadata": {},
   "outputs": [
    {
     "data": {
      "text/plain": [
       "'100'"
      ]
     },
     "execution_count": 31,
     "metadata": {},
     "output_type": "execute_result"
    }
   ],
   "source": [
    "str(100)"
   ]
  },
  {
   "cell_type": "code",
   "execution_count": 32,
   "id": "fa1510a9-4429-4225-9fc4-77640cc9a2f7",
   "metadata": {},
   "outputs": [
    {
     "data": {
      "text/plain": [
       "True"
      ]
     },
     "execution_count": 32,
     "metadata": {},
     "output_type": "execute_result"
    }
   ],
   "source": [
    "bool(100)"
   ]
  },
  {
   "cell_type": "code",
   "execution_count": 33,
   "id": "913b180a-addb-4212-a215-6521b3629540",
   "metadata": {},
   "outputs": [
    {
     "data": {
      "text/plain": [
       "100"
      ]
     },
     "execution_count": 33,
     "metadata": {},
     "output_type": "execute_result"
    }
   ],
   "source": [
    "# integer to other above is #\n",
    "# float to other below is #\n",
    "int(100.5)"
   ]
  },
  {
   "cell_type": "code",
   "execution_count": 34,
   "id": "9f91fbab-2e91-4c28-af19-473aa61a0c0b",
   "metadata": {},
   "outputs": [
    {
     "data": {
      "text/plain": [
       "100.5"
      ]
     },
     "execution_count": 34,
     "metadata": {},
     "output_type": "execute_result"
    }
   ],
   "source": [
    "float(100.5)"
   ]
  },
  {
   "cell_type": "code",
   "execution_count": 35,
   "id": "12056c21-d08c-44f6-a433-0331a4b4dd99",
   "metadata": {},
   "outputs": [
    {
     "data": {
      "text/plain": [
       "'100.5'"
      ]
     },
     "execution_count": 35,
     "metadata": {},
     "output_type": "execute_result"
    }
   ],
   "source": [
    "str(100.5)"
   ]
  },
  {
   "cell_type": "code",
   "execution_count": 36,
   "id": "a7161d7e-0285-4a1a-9fca-2727af5785e3",
   "metadata": {},
   "outputs": [
    {
     "data": {
      "text/plain": [
       "True"
      ]
     },
     "execution_count": 36,
     "metadata": {},
     "output_type": "execute_result"
    }
   ],
   "source": [
    "bool(100.5)"
   ]
  },
  {
   "cell_type": "code",
   "execution_count": 37,
   "id": "cbec37cc-b187-455a-bb77-ec94d2c24c2f",
   "metadata": {},
   "outputs": [
    {
     "ename": "ValueError",
     "evalue": "invalid literal for int() with base 10: 'mahika'",
     "output_type": "error",
     "traceback": [
      "\u001b[1;31m---------------------------------------------------------------------------\u001b[0m",
      "\u001b[1;31mValueError\u001b[0m                                Traceback (most recent call last)",
      "Cell \u001b[1;32mIn[37], line 2\u001b[0m\n\u001b[0;32m      1\u001b[0m \u001b[38;5;66;03m# str to other #\u001b[39;00m\n\u001b[1;32m----> 2\u001b[0m \u001b[38;5;28mint\u001b[39m(\u001b[38;5;124m'\u001b[39m\u001b[38;5;124mmahika\u001b[39m\u001b[38;5;124m'\u001b[39m)\n",
      "\u001b[1;31mValueError\u001b[0m: invalid literal for int() with base 10: 'mahika'"
     ]
    }
   ],
   "source": [
    "# str to other #\n",
    "int('mahika')"
   ]
  },
  {
   "cell_type": "code",
   "execution_count": 38,
   "id": "8c0b96e7-5949-4ebf-af5e-3d7b2b2767f8",
   "metadata": {},
   "outputs": [
    {
     "ename": "ValueError",
     "evalue": "could not convert string to float: 'mahika'",
     "output_type": "error",
     "traceback": [
      "\u001b[1;31m---------------------------------------------------------------------------\u001b[0m",
      "\u001b[1;31mValueError\u001b[0m                                Traceback (most recent call last)",
      "Cell \u001b[1;32mIn[38], line 1\u001b[0m\n\u001b[1;32m----> 1\u001b[0m \u001b[38;5;28mfloat\u001b[39m(\u001b[38;5;124m'\u001b[39m\u001b[38;5;124mmahika\u001b[39m\u001b[38;5;124m'\u001b[39m)\n",
      "\u001b[1;31mValueError\u001b[0m: could not convert string to float: 'mahika'"
     ]
    }
   ],
   "source": [
    "float('mahika')"
   ]
  },
  {
   "cell_type": "code",
   "execution_count": 39,
   "id": "41fdb37b-591a-485b-9552-c7c8f896f60b",
   "metadata": {},
   "outputs": [
    {
     "data": {
      "text/plain": [
       "True"
      ]
     },
     "execution_count": 39,
     "metadata": {},
     "output_type": "execute_result"
    }
   ],
   "source": [
    "bool('mahika')"
   ]
  },
  {
   "cell_type": "code",
   "execution_count": null,
   "id": "e1b8a6ed-5d95-4a7f-af50-93afcce92a90",
   "metadata": {},
   "outputs": [],
   "source": []
  }
 ],
 "metadata": {
  "kernelspec": {
   "display_name": "Python 3 (ipykernel)",
   "language": "python",
   "name": "python3"
  },
  "language_info": {
   "codemirror_mode": {
    "name": "ipython",
    "version": 3
   },
   "file_extension": ".py",
   "mimetype": "text/x-python",
   "name": "python",
   "nbconvert_exporter": "python",
   "pygments_lexer": "ipython3",
   "version": "3.11.7"
  }
 },
 "nbformat": 4,
 "nbformat_minor": 5
}
